{
 "cells": [
  {
   "cell_type": "code",
   "execution_count": 19,
   "metadata": {},
   "outputs": [],
   "source": [
    "#Download file from MTA\n",
    "#Input into a PD Dataframe (e.g. correctly label columns)\n",
    "#Helper tables: Define MTA station Mapping\n",
    "#reformat PD into a usable DF - Unit ID, Date-time, station name, entries, exits\n",
    "#sort on unit-id (will sort by time too). remove duplicates. [possibly find a better method]\n",
    "\n",
    "#- Which station has the most number of units? [NEEDS clarification]\n",
    "#- What is the total number of entries & exits across the subway system for February 1, 2013?\n",
    "#- Let’s define the busy-ness as sum of entry & exit count. What station was the busiest on February 1, 2013? What turnstile was the busiest on that date?\n",
    "#- What stations have seen the most usage growth/decline in 2013? [NEEDS clarification - since daily variance is significant]\n",
    "#- What dates are the least busy? Could you identify days on which stations were not operating at full capacity or closed entirely?\n",
    "#- Bonus:  What hour is the busiest for station CANAL ST in Q1 2013?\n",
    "\n",
    "#volume by day by station, by turnstile\n",
    "\n",
    "import pandas as pd\n",
    "from datetime import datetime\n",
    "\n",
    "\n",
    "#Questions\n",
    "#1) What kind of assumptions can I make about the data (e.g. can I assume counts are accurate?)\n",
    "#2) What does \"door open logon lgf man...\" mean?\n",
    "#3) Does question 1 refer to number of units on Feb 1?\n",
    "#4) I'm making the assumption about day-cutoffs. credit it based on the day the 4 hour cutof ends."
   ]
  },
  {
   "cell_type": "code",
   "execution_count": 16,
   "metadata": {},
   "outputs": [
    {
     "name": "stdout",
     "output_type": "stream",
     "text": [
      "    C/A  UNIT       SCP     DATE1     TIME1    DESC1  ENTRIES1   EXITS1  \\\n",
      "0  A002  R051  02-00-00  01-27-13  11:00:00  REGULAR   3967826  1367578   \n",
      "1  A002  R051  02-00-00  01-28-13  19:00:00  REGULAR   3969685  1368236   \n",
      "2  A002  R051  02-00-00  01-30-13  03:00:00  REGULAR   3971424  1368820   \n",
      "3  A002  R051  02-00-00  01-31-13  11:00:00  REGULAR   3973086  1369749   \n",
      "4  A002  R051  02-00-00  02-01-13  15:00:00  REGULAR   3974913  1370326   \n",
      "\n",
      "      DATE2     TIME2  ...     DATE7     TIME7    DESC7   ENTRIES7     EXITS7  \\\n",
      "0  01-27-13  15:00:00  ...  01-28-13  11:00:00  REGULAR  3968601.0  1368084.0   \n",
      "1  01-28-13  23:00:00  ...  01-29-13  19:00:00  REGULAR  3971170.0  1368796.0   \n",
      "2  01-30-13  07:00:00  ...  01-31-13  03:00:00  REGULAR  3972902.0  1369398.0   \n",
      "3  01-31-13  14:43:33  ...  02-01-13  07:00:00  REGULAR  3974518.0  1369972.0   \n",
      "4  02-01-13  19:00:00  ...       NaN       NaN      NaN        NaN        NaN   \n",
      "\n",
      "      DATE8     TIME8    DESC8   ENTRIES8     EXITS8  \n",
      "0  01-28-13  15:00:00  REGULAR  3968798.0  1368165.0  \n",
      "1  01-29-13  23:00:00  REGULAR  3971424.0  1368820.0  \n",
      "2  01-31-13  07:00:00  REGULAR  3972920.0  1369435.0  \n",
      "3  02-01-13  11:00:00  REGULAR  3974706.0  1370294.0  \n",
      "4       NaN       NaN      NaN        NaN        NaN  \n",
      "\n",
      "[5 rows x 43 columns]\n"
     ]
    }
   ],
   "source": [
    "raw_MTA_data = pd.read_csv(\"~/Projects/NYC_MTA_DATA_ANALYSIS/data/turnstile_130202.txt\")\n",
    "raw_MTA_data.columns= [\"C/A\",\"UNIT\",\"SCP\",\"DATE1\",\"TIME1\",\"DESC1\",\"ENTRIES1\",\"EXITS1\",\"DATE2\",\"TIME2\",\"DESC2\",\"ENTRIES2\",\"EXITS2\",\"DATE3\",\n",
    "\"TIME3\",\"DESC3\",\"ENTRIES3\",\"EXITS3\",\"DATE4\",\"TIME4\",\"DESC4\",\"ENTRIES4\",\"EXITS4\",\"DATE5\",\"TIME5\",\"DESC5\",\"ENTRIES5\",\"EXITS5\",\"DATE6\",\n",
    "\"TIME6\",\"DESC6\",\"ENTRIES6\",\"EXITS6\",\"DATE7\",\"TIME7\",\"DESC7\",\"ENTRIES7\",\"EXITS7\",\"DATE8\",\"TIME8\",\"DESC8\",\"ENTRIES8\",\"EXITS8\"]\n",
    "print(raw_MTA_data.head())"
   ]
  },
  {
   "cell_type": "code",
   "execution_count": 69,
   "metadata": {},
   "outputs": [
    {
     "name": "stdout",
     "output_type": "stream",
     "text": [
      "     DESC1  ENTRIES1   EXITS1    DESC2   ENTRIES2     EXITS2    DESC3  \\\n",
      "0  REGULAR   3967826  1367578  REGULAR  3967988.0  1367633.0  REGULAR   \n",
      "1  REGULAR   3969685  1368236  REGULAR  3969945.0  1368263.0  REGULAR   \n",
      "2  REGULAR   3971424  1368820  REGULAR  3971442.0  1368857.0  REGULAR   \n",
      "3  REGULAR   3973086  1369749  REGULAR  3973280.0  1369836.0  REGULAR   \n",
      "4  REGULAR   3974913  1370326  REGULAR  3975747.0  1370378.0  REGULAR   \n",
      "\n",
      "    ENTRIES3     EXITS3    DESC4  ...     EXITS8           Unit_ID  \\\n",
      "0  3968260.0  1367679.0  REGULAR  ...  1368165.0  A002R05102-00-00   \n",
      "1  3969947.0  1368267.0  REGULAR  ...  1368820.0  A002R05102-00-00   \n",
      "2  3971586.0  1369179.0  REGULAR  ...  1369435.0  A002R05102-00-00   \n",
      "3  3973287.0  1369836.0  REGULAR  ...  1370294.0  A002R05102-00-00   \n",
      "4  3976035.0  1370406.0      NaN  ...        NaN  A002R05102-00-00   \n",
      "\n",
      "          Datetime_1         Datetime_2         Datetime_3         Datetime_4  \\\n",
      "0  13-01-27 11:00:00  13-01-27 15:00:00  13-01-27 19:00:00  13-01-27 23:00:00   \n",
      "1  13-01-28 19:00:00  13-01-28 23:00:00  13-01-29 03:00:00  13-01-29 07:00:00   \n",
      "2  13-01-30 03:00:00  13-01-30 07:00:00  13-01-30 11:00:00  13-01-30 15:00:00   \n",
      "3  13-01-31 11:00:00  13-01-31 14:43:33  13-01-31 15:00:00  13-01-31 19:00:00   \n",
      "4  13-02-01 15:00:00  13-02-01 19:00:00  13-02-01 23:00:00               NULL   \n",
      "\n",
      "          Datetime_5         Datetime_6         Datetime_7         Datetime_8  \n",
      "0  13-01-28 03:00:00  13-01-28 07:00:00  13-01-28 11:00:00  13-01-28 15:00:00  \n",
      "1  13-01-29 11:00:00  13-01-29 15:00:00  13-01-29 19:00:00  13-01-29 23:00:00  \n",
      "2  13-01-30 19:00:00  13-01-30 23:00:00  13-01-31 03:00:00  13-01-31 07:00:00  \n",
      "3  13-01-31 23:00:00  13-02-01 03:00:00  13-02-01 07:00:00  13-02-01 11:00:00  \n",
      "4               NULL               NULL               NULL               NULL  \n",
      "\n",
      "[5 rows x 33 columns]\n"
     ]
    }
   ],
   "source": [
    "#create MTA_turnstiles df... unit, date-time, entries_raw, exits_raw\n",
    "#Loop through raw dataset. for each row, make an entry in the MTA turnstile data set.\n",
    "raw_MTA_data_tmp = raw_MTA_data.copy()\n",
    "raw_MTA_data_tmp[\"Unit_ID\"] = raw_MTA_data_tmp[\"C/A\"] + raw_MTA_data_tmp[\"UNIT\"] + raw_MTA_data_tmp[\"SCP\"]\n",
    "raw_MTA_data_tmp = raw_MTA_data_tmp.drop([\"C/A\", \"SCP\", \"UNIT\"],axis=1)\n",
    "\n",
    "def addTimeStamp(vec):\n",
    "    x = str(vec[0])\n",
    "    y = str(vec[1])\n",
    "    try:\n",
    "        return datetime.strptime(x + \" \" + y, \"%m-%d-%y %H:%M:%S\" ).strftime(\"%y-%m-%d %H:%M:%S\")\n",
    "    except:\n",
    "        return \"NULL\"\n",
    "\n",
    "for i in range(1,8+1):\n",
    "    raw_MTA_data_tmp[\"Datetime_\" + str(i)] = raw_MTA_data_tmp[[\"DATE\" + str(i), \"TIME\" + str(i)]].apply(addTimeStamp,axis=1)\n",
    "\n",
    "#raw_MTA_data_tmp[\"Date_time_1\"] = raw_MTA_data_tmp.apply(lambda x: datetime.strptime(x[\"DATE1\"] + \" \" + x[\"TIME1\"], \"%m-%d-%y %H:%M:%S\" ).strftime(\"%y-%m-%d %H:%M:%S\"),axis=1) \n",
    "raw_MTA_data_tmp = raw_MTA_data_tmp.drop([\"DATE1\", \"TIME1\", \"DATE2\", \"TIME2\", \"DATE3\", \"TIME3\", \"DATE4\", \"TIME4\", \"DATE5\", \"TIME5\", \"DATE6\", \"TIME6\", \"DATE7\", \"TIME7\", \"DATE8\", \"TIME8\"],axis=1)\n",
    "print(raw_MTA_data_tmp.head())\n",
    "\n",
    "\n",
    "\n",
    "#iterate over vector\n"
   ]
  },
  {
   "cell_type": "code",
   "execution_count": 71,
   "metadata": {},
   "outputs": [
    {
     "name": "stdout",
     "output_type": "stream",
     "text": [
      "Empty DataFrame\n",
      "Columns: [Unit, Datetime, Station, Cumulative entries, Cumulative exits, Net entries, Net exits]\n",
      "Index: []\n"
     ]
    }
   ],
   "source": [
    "MTA_turnstiles = pd.DataFrame(columns = [\"Unit\", \"Datetime\", \"Station\", \"Cumulative entries\", \"Cumulative exits\", \"Net entries\", \"Net exits\"])\n",
    "\n",
    "#runtime - 10 minutes\n",
    "for i in range(len(raw_MTA_data_tmp)):\n",
    "    for j in range(1,8+1):\n",
    "        index = i*(j-1)+j\n",
    "        MTA_turnstiles.loc[index,\"Unit\"] = raw_MTA_data_tmp.loc[i,\"Unit_ID\"]\n",
    "        MTA_turnstiles.loc[index,\"Datetime\"] = raw_MTA_data_tmp.loc[i,\"Datetime_\" + str(j)]\n",
    "        MTA_turnstiles.loc[index,\"Station\"] = \"\"\n",
    "        MTA_turnstiles.loc[index,\"Cumulative entries\"] = raw_MTA_data_tmp.loc[i,\"ENTRIES\" + str(j)]\n",
    "        MTA_turnstiles.loc[index,\"Cumulative exits\"] = raw_MTA_data_tmp.loc[i,\"EXITS\" + str(j)]\n",
    "        MTA_turnstiles.loc[index,\"Net entries\"] = -1\n",
    "        MTA_turnstiles.loc[index,\"Net exits\"] = -1"
   ]
  },
  {
   "cell_type": "code",
   "execution_count": null,
   "metadata": {},
   "outputs": [],
   "source": [
    "[\".\",\".\",\".\",\".\",\"5\",\".\",\".\",\"1\",\".\"],\n",
    "[\".\",\"4\",\".\",\"3\",\".\",\".\",\".\",\".\",\".\"],\n",
    "[\".\",\".\",\".\",\".\",\".\",\"3\",\".\",\".\",\"1\"],\n",
    "[\"8\",\".\",\".\",\".\",\".\",\".\",\".\",\"2\",\".\"],\n",
    "[\".\",\".\",\"2\",\".\",\"7\",\".\",\".\",\".\",\".\"],\n",
    "[\".\",\"1\",\"5\",\".\",\".\",\".\",\".\",\".\",\".\"],\n",
    "[\".\",\".\",\".\",\".\",\".\",\"2\",\".\",\".\",\".\"],\n",
    "[\".\",\"2\",\".\",\"9\",\".\",\".\",\".\",\".\",\".\"],\n",
    "[\".\",\".\",\"4\",\".\",\".\",\".\",\".\",\".\",\".\"]]"
   ]
  },
  {
   "cell_type": "code",
   "execution_count": 72,
   "metadata": {},
   "outputs": [],
   "source": [
    "MTA_turnstiles_backup = MTA_turnstiles.copy(deep=True)\n"
   ]
  },
  {
   "cell_type": "code",
   "execution_count": null,
   "metadata": {},
   "outputs": [],
   "source": []
  }
 ],
 "metadata": {
  "interpreter": {
   "hash": "e92a65bea0caed0c1b2e444ffa4813b1725cbc7086e0d7c70a637107a7975c88"
  },
  "kernelspec": {
   "display_name": "Python 3.8.10 64-bit ('twosigma': conda)",
   "name": "python3"
  },
  "language_info": {
   "codemirror_mode": {
    "name": "ipython",
    "version": 3
   },
   "file_extension": ".py",
   "mimetype": "text/x-python",
   "name": "python",
   "nbconvert_exporter": "python",
   "pygments_lexer": "ipython3",
   "version": "3.8.10"
  },
  "orig_nbformat": 4
 },
 "nbformat": 4,
 "nbformat_minor": 2
}